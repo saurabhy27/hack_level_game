{
 "cells": [
  {
   "cell_type": "code",
   "execution_count": 4,
   "id": "474de4fc-84c6-42f8-954b-40cd1a7140cd",
   "metadata": {},
   "outputs": [],
   "source": [
    "from astrapy import DataAPIClient\n",
    "from tqdm import tqdm\n",
    "import random"
   ]
  },
  {
   "cell_type": "code",
   "execution_count": null,
   "id": "6f64c9b5-306d-4a04-8d03-00d120b914f3",
   "metadata": {},
   "outputs": [],
   "source": [
    "# Initialize the client\n",
    "client = DataAPIClient(\"<token>\")\n",
    "db = client.get_database_by_api_endpoint(\n",
    "  \"<endpoint>\"\n",
    ")\n",
    "\n",
    "print(f\"Connected to Astra DB: {db.list_collection_names()}\")"
   ]
  },
  {
   "cell_type": "code",
   "execution_count": 2,
   "id": "6ac35b0c-a92a-483b-8d37-4e41c6776aa9",
   "metadata": {},
   "outputs": [],
   "source": [
    "collection = db.get_collection(\"social_media_engagement\")"
   ]
  },
  {
   "cell_type": "code",
   "execution_count": 3,
   "id": "41ad9962-b806-47b9-b3a9-313e7bd76528",
   "metadata": {},
   "outputs": [],
   "source": [
    "social_media_engagement_count = 10000\n",
    "instagram_post_types = [\n",
    "    \"Static Image\",\n",
    "    \"Carousel\",\n",
    "    \"Video\",\n",
    "    \"Reels\",\n",
    "    \"Stories\",\n",
    "    \"Instagram Live\",\n",
    "    \"Guides\",\n",
    "    \"Collaborative\",\n",
    "    \"Sponsored\",\n",
    "    \"Highlights\"\n",
    "]"
   ]
  },
  {
   "cell_type": "code",
   "execution_count": null,
   "id": "c2c8f42c-6b7f-42fc-a8c1-1925686961af",
   "metadata": {},
   "outputs": [],
   "source": [
    "cnt = 0\n",
    "data = []\n",
    "for i in range(social_media_engagement_count):\n",
    "    if cnt >= 100:\n",
    "        collection.insert_many(data)\n",
    "        data = []\n",
    "        cnt = 0\n",
    "    instagram_post_type = random.choice(instagram_post_types)\n",
    "    data.append({\n",
    "        \"likes\": random.randint(5, 50000),  \n",
    "        \"shares\": random.randint(10, 10000), \n",
    "        \"comments\": random.randint(5, 9000),  \n",
    "        \"posttypes\": instagram_post_type,\n",
    "        \"$vectorize\": instagram_post_type,\n",
    "    })\n",
    "\n",
    "    data.append({\n",
    "        \"likes\": 100,\n",
    "        \"shares\": 400,\n",
    "        \"comments\": 10,\n",
    "        \"posttypes\": instagram_post_types[0],\n",
    "        \"$vectorize\": instagram_post_types[0],\n",
    "    })\n",
    "    cnt += 1\n",
    "\n",
    "if data:\n",
    "    collection.insert_many(data)"
   ]
  },
  {
   "cell_type": "code",
   "execution_count": 5,
   "id": "3d67bf5a-b679-4887-8f2a-3956acf2cce6",
   "metadata": {},
   "outputs": [
    {
     "data": {
      "text/plain": [
       "InsertOneResult(inserted_id=d3d79854-e567-485c-9798-54e567785cf8, raw_results=...)"
      ]
     },
     "execution_count": 5,
     "metadata": {},
     "output_type": "execute_result"
    }
   ],
   "source": []
  },
  {
   "cell_type": "code",
   "execution_count": 5,
   "id": "9fe960d6-103c-4fcd-8f18-14233afd28bd",
   "metadata": {},
   "outputs": [
    {
     "ename": "TypeError",
     "evalue": "Random.randint() missing 1 required positional argument: 'b'",
     "output_type": "error",
     "traceback": [
      "\u001b[0;31m---------------------------------------------------------------------------\u001b[0m",
      "\u001b[0;31mTypeError\u001b[0m                                 Traceback (most recent call last)",
      "Cell \u001b[0;32mIn[5], line 1\u001b[0m\n\u001b[0;32m----> 1\u001b[0m \u001b[43mrandom\u001b[49m\u001b[38;5;241;43m.\u001b[39;49m\u001b[43mrandint\u001b[49m\u001b[43m(\u001b[49m\u001b[38;5;241;43m10000\u001b[39;49m\u001b[43m)\u001b[49m\n",
      "\u001b[0;31mTypeError\u001b[0m: Random.randint() missing 1 required positional argument: 'b'"
     ]
    }
   ],
   "source": [
    "random.randint(10000)"
   ]
  },
  {
   "cell_type": "code",
   "execution_count": null,
   "id": "d768e4d9-f25f-4898-a6ff-12968a9c3302",
   "metadata": {},
   "outputs": [],
   "source": []
  }
 ],
 "metadata": {
  "kernelspec": {
   "display_name": "Python 3 (ipykernel)",
   "language": "python",
   "name": "python3"
  },
  "language_info": {
   "codemirror_mode": {
    "name": "ipython",
    "version": 3
   },
   "file_extension": ".py",
   "mimetype": "text/x-python",
   "name": "python",
   "nbconvert_exporter": "python",
   "pygments_lexer": "ipython3",
   "version": "3.10.14"
  }
 },
 "nbformat": 4,
 "nbformat_minor": 5
}
